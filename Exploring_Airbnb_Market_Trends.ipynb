{
 "cells": [
  {
   "cell_type": "markdown",
   "id": "c747d469-ee97-4b95-880f-feefd5456042",
   "metadata": {
    "id": "bA5ajAmk7XH6"
   },
   "source": [
    "\n",
    "In this project, we will take a closer look at the New York Airbnb market by combining data from multiple file types.\n",
    "\n",
    "Three files containing data on 2019 Airbnb listings are available:\n",
    "\n",
    "**airbnb_price.csv**\n",
    "This is a CSV file containing data on Airbnb listing prices and locations.\n",
    "- **`listing_id`**: unique identifier of listing\n",
    "- **`price`**: nightly listing price in USD\n",
    "- **`nbhood_full`**: name of borough and neighborhood where listing is located\n",
    "\n",
    "**airbnb_room_type.xlsx**\n",
    "This is an Excel file containing data on Airbnb listing descriptions and room types.\n",
    "- **`listing_id`**: unique identifier of listing\n",
    "- **`description`**: listing description\n",
    "- **`room_type`**: Airbnb has three types of rooms: shared rooms, private rooms, and entire homes/apartments\n",
    "\n",
    "**airbnb_last_review.tsv**\n",
    "This is a TSV file containing data on Airbnb host names and review dates.\n",
    "- **`listing_id`**: unique identifier of listing\n",
    "- **`host_name`**: name of listing host\n",
    "- **`last_review`**: date when the listing was last reviewed\n",
    "\n",
    "The goal is to analyze this data to provide insights on private rooms to a real estate company."
   ]
  },
  {
   "cell_type": "code",
   "execution_count": 72,
   "id": "1fdc5784-479e-46cb-b05b-68439dcc94a7",
   "metadata": {
    "executionCancelledAt": null,
    "executionTime": 49,
    "lastExecutedAt": 1729944085596,
    "lastExecutedByKernel": "b7c68d26-81cf-472f-9344-e62cec96487f",
    "lastScheduledRunId": null,
    "lastSuccessfullyExecutedCode": "# Import necessary packages\nimport pandas as pd\nimport numpy as np"
   },
   "outputs": [],
   "source": [
    "# Import necessary packages\n",
    "import pandas as pd\n",
    "import numpy as np"
   ]
  },
  {
   "cell_type": "code",
   "execution_count": 73,
   "id": "da765239-3ab1-4ea0-a85e-21101b80eab1",
   "metadata": {
    "executionCancelledAt": null,
    "executionTime": 1454,
    "lastExecutedAt": 1729944087050,
    "lastExecutedByKernel": "b7c68d26-81cf-472f-9344-e62cec96487f",
    "lastScheduledRunId": null,
    "lastSuccessfullyExecutedCode": "# Loading files\nprices = pd.read_csv('data/airbnb_price.csv')\nrooms = pd.read_excel('data/airbnb_room_type.xlsx')\nreviews = pd.read_csv('data/airbnb_last_review.tsv', sep='\\t')\n\nprint(prices.head())\nprint(rooms.head())\nprint(reviews.head())",
    "outputsMetadata": {
     "0": {
      "height": 395,
      "type": "stream"
     }
    }
   },
   "outputs": [
    {
     "name": "stdout",
     "output_type": "stream",
     "text": [
      "   listing_id        price                nbhood_full\n",
      "0        2595  225 dollars         Manhattan, Midtown\n",
      "1        3831   89 dollars     Brooklyn, Clinton Hill\n",
      "2        5099  200 dollars     Manhattan, Murray Hill\n",
      "3        5178   79 dollars  Manhattan, Hell's Kitchen\n",
      "4        5238  150 dollars       Manhattan, Chinatown\n",
      "   listing_id                                description        room_type\n",
      "0        2595                      Skylit Midtown Castle  Entire home/apt\n",
      "1        3831            Cozy Entire Floor of Brownstone  Entire home/apt\n",
      "2        5099  Large Cozy 1 BR Apartment In Midtown East  Entire home/apt\n",
      "3        5178            Large Furnished Room Near B'way     private room\n",
      "4        5238         Cute & Cozy Lower East Side 1 bdrm  Entire home/apt\n",
      "   listing_id    host_name   last_review\n",
      "0        2595     Jennifer   May 21 2019\n",
      "1        3831  LisaRoxanne  July 05 2019\n",
      "2        5099        Chris  June 22 2019\n",
      "3        5178     Shunichi  June 24 2019\n",
      "4        5238          Ben  June 09 2019\n"
     ]
    }
   ],
   "source": [
    "# Loading files\n",
    "prices = pd.read_csv('airbnb_price.csv')\n",
    "rooms = pd.read_excel('airbnb_room_type.xlsx')\n",
    "reviews = pd.read_csv('airbnb_last_review.tsv', sep='\\t')\n",
    "\n",
    "print(prices.head())\n",
    "print(rooms.head())\n",
    "print(reviews.head())"
   ]
  },
  {
   "cell_type": "code",
   "execution_count": 74,
   "id": "e401a587-ac20-4731-8f52-f438c4547fdb",
   "metadata": {
    "executionCancelledAt": null,
    "executionTime": 64,
    "lastExecutedAt": 1729944087114,
    "lastExecutedByKernel": "b7c68d26-81cf-472f-9344-e62cec96487f",
    "lastScheduledRunId": null,
    "lastSuccessfullyExecutedCode": "# Merging the three DataFrames\ndf = prices.merge(rooms, on='listing_id').merge(reviews, on='listing_id')\nprint(df.head())\nprint(df.info())",
    "outputsMetadata": {
     "0": {
      "height": 500,
      "type": "stream"
     }
    }
   },
   "outputs": [
    {
     "name": "stdout",
     "output_type": "stream",
     "text": [
      "   listing_id        price                nbhood_full  \\\n",
      "0        2595  225 dollars         Manhattan, Midtown   \n",
      "1        3831   89 dollars     Brooklyn, Clinton Hill   \n",
      "2        5099  200 dollars     Manhattan, Murray Hill   \n",
      "3        5178   79 dollars  Manhattan, Hell's Kitchen   \n",
      "4        5238  150 dollars       Manhattan, Chinatown   \n",
      "\n",
      "                                 description        room_type    host_name  \\\n",
      "0                      Skylit Midtown Castle  Entire home/apt     Jennifer   \n",
      "1            Cozy Entire Floor of Brownstone  Entire home/apt  LisaRoxanne   \n",
      "2  Large Cozy 1 BR Apartment In Midtown East  Entire home/apt        Chris   \n",
      "3            Large Furnished Room Near B'way     private room     Shunichi   \n",
      "4         Cute & Cozy Lower East Side 1 bdrm  Entire home/apt          Ben   \n",
      "\n",
      "    last_review  \n",
      "0   May 21 2019  \n",
      "1  July 05 2019  \n",
      "2  June 22 2019  \n",
      "3  June 24 2019  \n",
      "4  June 09 2019  \n",
      "<class 'pandas.core.frame.DataFrame'>\n",
      "RangeIndex: 25209 entries, 0 to 25208\n",
      "Data columns (total 7 columns):\n",
      " #   Column       Non-Null Count  Dtype \n",
      "---  ------       --------------  ----- \n",
      " 0   listing_id   25209 non-null  int64 \n",
      " 1   price        25209 non-null  object\n",
      " 2   nbhood_full  25209 non-null  object\n",
      " 3   description  25199 non-null  object\n",
      " 4   room_type    25209 non-null  object\n",
      " 5   host_name    25201 non-null  object\n",
      " 6   last_review  25209 non-null  object\n",
      "dtypes: int64(1), object(6)\n",
      "memory usage: 1.3+ MB\n",
      "None\n"
     ]
    }
   ],
   "source": [
    "# Merging the three DataFrames\n",
    "df = prices.merge(rooms, on='listing_id').merge(reviews, on='listing_id')\n",
    "print(df.head())\n",
    "print(df.info())"
   ]
  },
  {
   "cell_type": "code",
   "execution_count": 75,
   "id": "6eecb7fd-83c8-471b-ab46-54bf849be00b",
   "metadata": {
    "executionCancelledAt": null,
    "executionTime": 50,
    "lastExecutedAt": 1729944087164,
    "lastExecutedByKernel": "b7c68d26-81cf-472f-9344-e62cec96487f",
    "lastScheduledRunId": null,
    "lastSuccessfullyExecutedCode": "# Investigating columns\nprint(df['room_type'].unique())",
    "outputsMetadata": {
     "0": {
      "height": 80,
      "type": "stream"
     }
    }
   },
   "outputs": [
    {
     "name": "stdout",
     "output_type": "stream",
     "text": [
      "['Entire home/apt' 'private room' 'Private room' 'entire home/apt'\n",
      " 'PRIVATE ROOM' 'shared room' 'ENTIRE HOME/APT' 'Shared room'\n",
      " 'SHARED ROOM']\n"
     ]
    }
   ],
   "source": [
    "# Investigating columns\n",
    "print(df['room_type'].unique())"
   ]
  },
  {
   "cell_type": "code",
   "execution_count": 76,
   "id": "1df69e84-ab67-4d2e-96f8-a42545ee9773",
   "metadata": {
    "executionCancelledAt": null,
    "executionTime": 63,
    "lastExecutedAt": 1729944087227,
    "lastExecutedByKernel": "b7c68d26-81cf-472f-9344-e62cec96487f",
    "lastScheduledRunId": null,
    "lastSuccessfullyExecutedCode": "# Cleaning desired columns\ndf['review_date'] = pd.to_datetime(df['last_review'], format='%B %d %Y')\ndf['room_type'] = df.room_type.str.lower()\ndf['cleaned_price'] = df.price.str.replace(\" dollars\", \"\").astype(float)\nprint(df.info())",
    "outputsMetadata": {
     "0": {
      "height": 374,
      "type": "stream"
     }
    }
   },
   "outputs": [
    {
     "name": "stdout",
     "output_type": "stream",
     "text": [
      "<class 'pandas.core.frame.DataFrame'>\n",
      "RangeIndex: 25209 entries, 0 to 25208\n",
      "Data columns (total 9 columns):\n",
      " #   Column         Non-Null Count  Dtype         \n",
      "---  ------         --------------  -----         \n",
      " 0   listing_id     25209 non-null  int64         \n",
      " 1   price          25209 non-null  object        \n",
      " 2   nbhood_full    25209 non-null  object        \n",
      " 3   description    25199 non-null  object        \n",
      " 4   room_type      25209 non-null  object        \n",
      " 5   host_name      25201 non-null  object        \n",
      " 6   last_review    25209 non-null  object        \n",
      " 7   review_date    25209 non-null  datetime64[ns]\n",
      " 8   cleaned_price  25209 non-null  float64       \n",
      "dtypes: datetime64[ns](1), float64(1), int64(1), object(6)\n",
      "memory usage: 1.7+ MB\n",
      "None\n"
     ]
    }
   ],
   "source": [
    "# Cleaning desired columns\n",
    "df['review_date'] = pd.to_datetime(df['last_review'], format='%B %d %Y')\n",
    "df['room_type'] = df.room_type.str.lower()\n",
    "df['cleaned_price'] = df.price.str.replace(\" dollars\", \"\").astype(float)\n",
    "print(df.info())"
   ]
  },
  {
   "cell_type": "code",
   "execution_count": 77,
   "id": "22813530-3c26-4cfc-9f2f-70cf0391995e",
   "metadata": {
    "executionCancelledAt": null,
    "executionTime": 45,
    "lastExecutedAt": 1729944087272,
    "lastExecutedByKernel": "b7c68d26-81cf-472f-9344-e62cec96487f",
    "lastScheduledRunId": null,
    "lastSuccessfullyExecutedCode": "# What are the dates of the earliest and most recent reviews?\nfirst_reviewed = df['review_date'].min()\nlast_reviewed = df['review_date'].max()\n\nprint(first_reviewed, last_reviewed)",
    "outputsMetadata": {
     "0": {
      "height": 38,
      "type": "stream"
     }
    }
   },
   "outputs": [],
   "source": [
    "# What are the dates of the earliest and most recent reviews?\n",
    "first_reviewed = df['review_date'].min()\n",
    "last_reviewed = df['review_date'].max()"
   ]
  },
  {
   "cell_type": "code",
   "execution_count": 78,
   "id": "0a674e38-b1f5-47c2-b44f-948fca01520b",
   "metadata": {
    "executionCancelledAt": null,
    "executionTime": 53,
    "lastExecutedAt": 1729944087325,
    "lastExecutedByKernel": "b7c68d26-81cf-472f-9344-e62cec96487f",
    "lastScheduledRunId": null,
    "lastSuccessfullyExecutedCode": "# How many of the listings are private rooms?\nnb_private_rooms = df[df['room_type'] == 'private room']\nprint(nb_private_rooms.shape[0])",
    "outputsMetadata": {
     "0": {
      "height": 38,
      "type": "stream"
     }
    }
   },
   "outputs": [],
   "source": [
    "# How many of the listings are private rooms?\n",
    "private_room_count = df[df['room_type'] == 'private room'].shape[0]"
   ]
  },
  {
   "cell_type": "code",
   "execution_count": 79,
   "id": "4f85393f-91d0-49bd-8957-c0c5539ded40",
   "metadata": {
    "executionCancelledAt": null,
    "executionTime": 47,
    "lastExecutedAt": 1729944087372,
    "lastExecutedByKernel": "b7c68d26-81cf-472f-9344-e62cec96487f",
    "lastScheduledRunId": null,
    "lastSuccessfullyExecutedCode": "# What is the average listing price?\navg_price = df['cleaned_price'].mean().round()\nprint(avg_price)",
    "outputsMetadata": {
     "0": {
      "height": 38,
      "type": "stream"
     }
    }
   },
   "outputs": [],
   "source": [
    "# What is the average listing price?\n",
    "avg_price = df['cleaned_price'].mean().round(2)"
   ]
  },
  {
   "cell_type": "code",
   "execution_count": 80,
   "id": "705e0506-1731-465e-8544-54f851c001e6",
   "metadata": {
    "executionCancelledAt": null,
    "executionTime": 76,
    "lastExecutedAt": 1729944087448,
    "lastExecutedByKernel": "b7c68d26-81cf-472f-9344-e62cec96487f",
    "lastScheduledRunId": null,
    "lastSuccessfullyExecutedCode": "# Combining the new variables into one DataFrame\n\nreview_dates = pd.DataFrame({\n    'first_reviewed': [first_reviewed],\n    'last_reviewed': [last_reviewed],\n    'nb_private_rooms': [nb_private_rooms],\n    'avg_price': [avg_price]\n})\n\nprint(review_dates)",
    "outputsMetadata": {
     "0": {
      "height": 101,
      "type": "stream"
     }
    }
   },
   "outputs": [
    {
     "name": "stdout",
     "output_type": "stream",
     "text": [
      "  first_reviewed last_reviewed  nb_private_rooms  avg_price\n",
      "0     2019-01-01    2019-07-09             11356     141.78\n"
     ]
    }
   ],
   "source": [
    "# Combining the new variables into one DataFrame\n",
    "\n",
    "review_dates = pd.DataFrame({\n",
    "    'first_reviewed': [first_reviewed],\n",
    "    'last_reviewed': [last_reviewed],\n",
    "    'nb_private_rooms': [private_room_count],\n",
    "    'avg_price': [avg_price]\n",
    "})\n",
    "\n",
    "print(review_dates)"
   ]
  },
  {
   "cell_type": "code",
   "execution_count": null,
   "id": "970d4c8f-abfb-42af-9f8d-4e96198160f3",
   "metadata": {},
   "outputs": [],
   "source": []
  }
 ],
 "metadata": {
  "colab": {
   "name": "Welcome to DataCamp Workspaces.ipynb",
   "provenance": []
  },
  "editor": "DataLab",
  "kernelspec": {
   "display_name": "Python 3 (ipykernel)",
   "language": "python",
   "name": "python3"
  },
  "language_info": {
   "codemirror_mode": {
    "name": "ipython",
    "version": 3
   },
   "file_extension": ".py",
   "mimetype": "text/x-python",
   "name": "python",
   "nbconvert_exporter": "python",
   "pygments_lexer": "ipython3",
   "version": "3.11.7"
  }
 },
 "nbformat": 4,
 "nbformat_minor": 5
}
